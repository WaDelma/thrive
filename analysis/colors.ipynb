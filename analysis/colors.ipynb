{
 "cells": [
  {
   "cell_type": "markdown",
   "metadata": {},
   "source": [
    "### Setting up the colors for different data structures"
   ]
  },
  {
   "cell_type": "code",
   "execution_count": null,
   "metadata": {},
   "outputs": [],
   "source": [
    "import numpy as np\n",
    "from cycler import cycler as cy\n",
    "colors = list(map(lambda n: tuple(0.95 * (np.array(n) / 255)), [\n",
    "    [128,   0,   0],\n",
    "    [230,  25,  75], [255, 225,  25], [  0, 130, 200],\n",
    "    [245, 130,  48], [145,  30, 180], [ 70, 240, 240], [240,  50, 230],\n",
    "    [0.9*210, 0.9*245,  60], [250, 190, 190], [  0, 128, 128],#, [230, 190, 255],\n",
    "    [170, 110,  40], [ 60, 180,  75], [0.8*230, 0.8*190, 0.8*255], [170, 255, 195],\n",
    "    [128, 128,   0], [  0,   0, 128], [255, 215, 180], [128, 128, 128],\n",
    "    [85, 85, 85], [170, 170, 170], [0.9*255, 0.9*250, 0.9*200], [0, 0, 0], [0, 0, 0]]))\n",
    "cyl = cy('color', colors)\n",
    "cyl = cyl + (cy('lw', np.linspace(1.25, 2, 6)) * cy('linestyle', [':', '-', '--', '-.']))\n",
    "finite_cy_iter = iter(cyl)\n",
    "styles = {\n",
    "    structure:next(finite_cy_iter)\n",
    "    for structure in ['ArrayMap', 'ClojureHashMap', 'ClojureTreeMap',\n",
    "       'ClojureVectorMap', 'IntChamp32Java', 'IntChamp32Kotlin',\n",
    "       'IntHamt16Java', 'IntHamt32Java', 'IntHamt32Kotlin',\n",
    "       'IntHamt64Java', 'IntImplicitKeyHamtKotlin',\n",
    "       'PaguroHashMap', 'PaguroTreeMap',\n",
    "       'PaguroRrbMap', 'PaguroVectorMap', 'RadixTree',\n",
    "       'RadixTreeRedux', 'ScalaHashMap', 'ScalaIntMap',\n",
    "       'ScalaRrbMap', 'ScalaTreeMap', 'SdkMap', 'RrbTree']\n",
    "}\n",
    "styles['L1 cache'] = {'lw': 0.25, 'linestyle': ':', 'color': (0,0,0)}\n",
    "styles['L2 cache'] = {'lw': 0.25, 'linestyle': '--', 'color': (0,0,0)}\n",
    "styles['L3 cache'] = {'lw': 0.25, 'linestyle': '-', 'color': (0,0,0)}\n",
    "\n",
    "def get_style(name):\n",
    "    res = styles.get(name)\n",
    "    if res == None:\n",
    "        res = styles[name.replace(\"V2\", \"\")]\n",
    "        r = res.copy()\n",
    "        r['lw'] += 0.5;\n",
    "        return r;\n",
    "    else:\n",
    "        return res;\n",
    "()"
   ]
  },
  {
   "cell_type": "code",
   "execution_count": null,
   "metadata": {},
   "outputs": [],
   "source": []
  }
 ],
 "metadata": {
  "kernelspec": {
   "display_name": "Python 3",
   "language": "python",
   "name": "python3"
  },
  "language_info": {
   "codemirror_mode": {
    "name": "ipython",
    "version": 3
   },
   "file_extension": ".py",
   "mimetype": "text/x-python",
   "name": "python",
   "nbconvert_exporter": "python",
   "pygments_lexer": "ipython3",
   "version": "3.7.7"
  }
 },
 "nbformat": 4,
 "nbformat_minor": 4
}
