{
 "cells": [
  {
   "cell_type": "code",
   "execution_count": null,
   "metadata": {},
   "outputs": [],
   "source": [
    "import matplotlib.pyplot as plt\n",
    "import numpy as np\n",
    "import pandas as pd\n",
    "import math\n",
    "import matplotlib.ticker as mticker\n",
    "import itertools\n",
    "import copy\n",
    "import sys\n",
    "import functools\n",
    "from scipy import special\n",
    "from sklearn import linear_model\n",
    "import matplotlib.transforms as mtransforms\n",
    "from sklearn.metrics import mean_squared_error\n",
    "from cycler import cycler as cy\n",
    "from collections import defaultdict\n",
    "%run colors.ipynb"
   ]
  },
  {
   "cell_type": "markdown",
   "metadata": {},
   "source": [
    "### Loading results of memory benchmarks and some munging"
   ]
  },
  {
   "cell_type": "code",
   "execution_count": null,
   "metadata": {},
   "outputs": [],
   "source": [
    "results = pd.read_csv(\"old server/memResults.csv\").append(pd.read_csv(\"old server/memResultsAdditional.csv\")).reset_index(drop=True)\n",
    "results.replace(\"Scala\", \"ScalaV2\", inplace=True, regex=True)\n",
    "extend = pd.read_csv(\"old server/memResultsOldScala.csv\")\n",
    "results = results.append(extend[\n",
    "    extend.name.str.contains(\"Scala\")\n",
    "]).reset_index(drop=True)\n",
    "\n",
    "results = results.replace({\"name\": {\n",
    "    'ClojureRrbMap': 'ClojureVectorMap'\n",
    "}, \"test\": {\n",
    "    \"lin\": \"sequential\",\n",
    "    \"lincumu\": \"sequentialCumulative\",\n",
    "    \"rand\": \"random\",\n",
    "    \"randcumu\": \"randomCumulative\",\n",
    "}})\n",
    "# The 64 branching factor implementation was bugged\n",
    "results = results[results.name.isin(['IntChamp64Java', 'IntHamt16Java', 'IntHamt64Java']) == False]\n",
    "\n",
    "# results[(results.test == \"lincumu\") & (results.name.str.contains(\"Scala\") & results.name.str.contains(\"Rrb\"))]"
   ]
  },
  {
   "cell_type": "markdown",
   "metadata": {},
   "source": [
    "### Function for comparing memory usage differences"
   ]
  },
  {
   "cell_type": "code",
   "execution_count": null,
   "metadata": {},
   "outputs": [],
   "source": [
    "def cmp(testa, namea, testb, nameb):\n",
    "    a = results[(results.test == testa) & (results.name == namea)].set_index(\"amount\")[\"size\"]\n",
    "    b = results[(results.test == testb) & (results.name == nameb)].set_index(\"amount\")[\"size\"]\n",
    "    return a - b"
   ]
  },
  {
   "cell_type": "code",
   "execution_count": null,
   "metadata": {},
   "outputs": [],
   "source": [
    "cmp(\"sequentialCumulative\", \"ScalaRrbMap\", \"sequentialCumulative\", \"ScalaV2RrbMap\")"
   ]
  },
  {
   "cell_type": "code",
   "execution_count": null,
   "metadata": {},
   "outputs": [],
   "source": [
    "cmp(\"random\", \"ScalaRrbMap\", \"sequential\", \"ScalaRrbMap\")"
   ]
  },
  {
   "cell_type": "markdown",
   "metadata": {},
   "source": [
    "### Variables used later on"
   ]
  },
  {
   "cell_type": "code",
   "execution_count": null,
   "metadata": {},
   "outputs": [],
   "source": [
    "tests = results[\"test\"].unique()\n",
    "print(tests)\n",
    "\n",
    "amounts = results[\"amount\"].unique()\n",
    "amounts.sort()\n",
    "print(amounts)\n",
    "\n",
    "names = results[\"name\"].unique()\n",
    "names.sort()\n",
    "print(tests)"
   ]
  },
  {
   "cell_type": "markdown",
   "metadata": {},
   "source": [
    "### Function for comparing memory usage between different benchmarks"
   ]
  },
  {
   "cell_type": "code",
   "execution_count": null,
   "metadata": {},
   "outputs": [],
   "source": [
    "def compare(a, b):\n",
    "#     fig, ax = plt.subplots(7, 4, figsize=(20,40))\n",
    "#     axs = ax.flatten()\n",
    "\n",
    "    ns = pd.DataFrame(filter(lambda n: n not in [\n",
    "        \"ScalaRrbMap\", \"ScalaTreeMap\", \"ScalaIntMap\", \"IntChamp32Kotlin\", \"IntHamt32Kotlin\", \"ArrayMap\", \"SdkMap\"\n",
    "    ], names))\n",
    "    ns = ns.apply(lambda name: pd.Series([\n",
    "            name[0],\n",
    "            (lambda a, b:\n",
    "                 name[0]\n",
    "#                 np.max(b / a)\n",
    "#                 np.sum(np.square(a[:min(len(a), len(b))] - b[:min(len(a), len(b))])) / 2\n",
    "#                 mean_squared_error(\n",
    "#                     a[:min(len(a), len(b))],\n",
    "#                     b[:min(len(a), len(b))]\n",
    "#                 )\n",
    "            )(\n",
    "                results[(results.test == a) & (results.name == name[0])]['size'].reset_index(drop=True),\n",
    "                results[(results.test == b) & (results.name == name[0])]['size'].reset_index(drop=True)\n",
    "            )\n",
    "    ], ['name', 'err']), axis=1)\n",
    "    ns = ns.sort_values(\"err\", ascending=True).reset_index(drop=True)\n",
    "\n",
    "    fig, ax = plt.subplots(figsize=(20,20))\n",
    "    for i, n in ns.iterrows():\n",
    "        name = n['name']\n",
    "#         ax = axs[i]\n",
    "        aa = results[(results.test == a) & (results.name == name)]\n",
    "        bb = results[(results.test == b) & (results.name == name)]\n",
    "        \n",
    "        c = (bb.set_index(\"amount\")[\"size\"] / aa.set_index(\"amount\")[\"size\"]) * 100 - 100\n",
    "        p = c.plot(x='amount', y='size', ax=ax, logx=True, logy=False, title=f\"{a} vs {b}\", label=name, **get_style(name))\n",
    "#         p = c.plot(x='amount', y='size', ax=ax, logx=True, logy=False, label=f\"{a} vs {b}\", title=name, **styles[name])\n",
    "        p.set(xlabel=\"size\", ylabel=\"savings (in %)\")\n",
    "        ax.legend(loc='upper left')\n",
    "#         stylea = copy.copy(styles[name])\n",
    "#         c = stylea[\"color\"]\n",
    "#         stylea[\"color\"] = (c[0] - 0.05 if c[0] > 0.5 else 0, c[1] - 0.05 if c[1] > 0.5 else 0, c[2] - 0.05 if c[2] > 0.5 else 0)\n",
    "#         stylea[\"lw\"] += 0.05\n",
    "\n",
    "#         styleb = copy.copy(styles[name])\n",
    "#         c = styleb[\"color\"]\n",
    "#         styleb[\"color\"] = (c[0] + 0.05, c[1] + 0.05, c[2] + 0.05)\n",
    "#         styleb[\"lw\"] -= 0.05\n",
    "\n",
    "#         log = True\n",
    "#         aa.plot(x='amount', y='size', ax=ax, logx=log, logy=log, label=a, title=name, **stylea)\n",
    "#         bb.plot(x='amount', y='size', ax=ax, logx=log, logy=log, label=b, title=name, **styleb)\n",
    "        \n",
    "    plt.savefig(f'./graphs/cmp-{a}-vs-{b}.pdf', format='pdf')\n",
    "    plt.clf()"
   ]
  },
  {
   "cell_type": "code",
   "execution_count": null,
   "metadata": {},
   "outputs": [],
   "source": [
    "compare(\"sequential\", \"random\")\n",
    "compare(\"sequentialCumulative\", \"randomCumulative\")\n",
    "compare(\"sequential\", \"sequentialCumulative\")\n",
    "compare(\"random\", \"randomCumulative\")"
   ]
  },
  {
   "cell_type": "markdown",
   "metadata": {},
   "source": [
    "### Add cache sizes"
   ]
  },
  {
   "cell_type": "code",
   "execution_count": null,
   "metadata": {},
   "outputs": [],
   "source": [
    "results2 = results.append([\n",
    "    {'test': test, 'name': 'L1 cache', 'amount': amount, 'size': 32768}\n",
    "    for test in  tests\n",
    "    for amount in  amounts\n",
    "])\n",
    "results2 = results2.append([\n",
    "    {'test': test, 'name': 'L2 cache', 'amount': amount, 'size': 262144}\n",
    "    for test in  tests\n",
    "    for amount in  amounts\n",
    "])\n",
    "results2 = results2.append([\n",
    "    {'test': test, 'name': 'L3 cache', 'amount': amount, 'size': 39321600}\n",
    "    for test in  tests\n",
    "    for amount in  amounts\n",
    "])"
   ]
  },
  {
   "cell_type": "markdown",
   "metadata": {},
   "source": [
    "### Main visualisation function"
   ]
  },
  {
   "cell_type": "code",
   "execution_count": null,
   "metadata": {},
   "outputs": [],
   "source": [
    "def visualise(results2, normalizeTo = False, filename = \"memresults\", render = True, logx = True):\n",
    "    pd.options.mode.chained_assignment = None\n",
    "    print(f\"visualising {filename}\")\n",
    "    ignore_scale = [\"L1 cache\", \"L2 cache\", \"L3 cache\"]#, \"ArrayMap\", \"SdkMap\"]\n",
    "    if normalizeTo != False:\n",
    "        logy = False\n",
    "        ylabel = \"savings (in %)\"\n",
    "    else:\n",
    "        logy = True\n",
    "        ylabel = \"bytes\"\n",
    "    fig, ax = plt.subplots(2, 3, figsize=(15,10))\n",
    "    axs = ax.flatten()\n",
    "    maxs = [0, 0, 0, 0]\n",
    "    mins = [sys.maxsize, sys.maxsize, sys.maxsize, sys.maxsize]\n",
    "    for n, test in enumerate(tests):\n",
    "        if n < 2:\n",
    "            ax = axs[n]\n",
    "        else:\n",
    "            ax = axs[n + 1]\n",
    "        print(test)\n",
    "        iterate = results2[results2.test == test].drop(\"test\", 1)\n",
    "#         if \"Cumu\" in test:\n",
    "#             hs = headers.set_index('name')['size']\n",
    "#             iterate['size'] = iterate['size'] - (iterate['name'].map(hs) - 96).fillna(0) * (iterate['amount'] - 1)\n",
    "\n",
    "        if normalizeTo != False:\n",
    "            d = iterate[iterate.name == normalizeTo][\"size\"]\n",
    "        for name, group in iterate.groupby(\"name\"):\n",
    "            if normalizeTo != False:\n",
    "                dd = d[:len(group.index)]\n",
    "                dd.index = group.index[:len(dd.index)]\n",
    "                group.size = dd.div(group[\"size\"], axis=0) * 100 - 100\n",
    "            if name not in ignore_scale:\n",
    "                maxs[n] = max(maxs[n], np.max(group[\"size\"]))\n",
    "                mins[n] = min(mins[n], np.min(group[\"size\"]))\n",
    "            p = group.plot(x='amount', y='size', ax=ax, logx=logx, logy=logy, label=name, title=test, **get_style(name))\n",
    "            p.set(xlabel=\"size\", ylabel=ylabel)\n",
    "        ax.get_legend().remove()\n",
    "    padper = 0.05\n",
    "    mx = max(maxs[0], maxs[2])\n",
    "    mn = min(mins[0], mins[2])\n",
    "    pad = padper * (mx - mn)\n",
    "    for i in [0, 3]:\n",
    "        axs[i].set_ylim(mn - pad, mx + pad)\n",
    "    mx = max(maxs[1], maxs[3])\n",
    "    mn = min(mins[1], mins[3])\n",
    "    pad = padper * (mx - mn)\n",
    "    for i in [1, 4]:\n",
    "        axs[i].set_ylim(mn - pad, mx + pad)\n",
    "    plt.tight_layout()\n",
    "    pos = axs[2].get_position()\n",
    "    fig.delaxes(axs[2])\n",
    "    fig.delaxes(axs[5])\n",
    "    handles, labels = ax.get_legend_handles_labels()\n",
    "    hl = sorted(zip(handles, labels), key=functools.cmp_to_key(\n",
    "        lambda a, b: -1 if (\"cache\" in a[1]) and (\"cache\" not in b[1]) else 0\n",
    "    ))\n",
    "    handles2, labels2 = zip(*hl)\n",
    "    fig.legend(handles2, labels2, bbox_to_anchor=pos, loc='upper left')\n",
    "    if filename != False:\n",
    "        plt.savefig(f'./graphs/{filename}.pdf', format='pdf')\n",
    "    if render:\n",
    "        plt.show()\n",
    "    else:\n",
    "        plt.clf()"
   ]
  },
  {
   "cell_type": "markdown",
   "metadata": {},
   "source": [
    "### Visualising dummy lines for understanding how the graph behaves"
   ]
  },
  {
   "cell_type": "code",
   "execution_count": null,
   "metadata": {},
   "outputs": [],
   "source": [
    "df = pd.DataFrame([\n",
    "    {'test': test, 'name': 'ClojureTreeMap', 'amount': amount, 'size': amount}\n",
    "    for test in  tests\n",
    "    for amount in  amounts\n",
    "])\n",
    "df = df.append([\n",
    "    {'test': test, 'name': 'PaguroTreeMap', 'amount': amount, 'size': amount * 2}\n",
    "    for test in  tests\n",
    "    for amount in  amounts\n",
    "])\n",
    "df = df.append([\n",
    "    {'test': test, 'name': 'ScalaV2TreeMap', 'amount': amount, 'size': amount * 0.5}\n",
    "    for test in  tests\n",
    "    for amount in  amounts\n",
    "])\n",
    "visualise(df, normalizeTo = \"ClojureTreeMap\", filename = False)"
   ]
  },
  {
   "cell_type": "markdown",
   "metadata": {},
   "source": [
    "### Playground for trying different visualisations"
   ]
  },
  {
   "cell_type": "code",
   "execution_count": null,
   "metadata": {},
   "outputs": [],
   "source": [
    "visualise(\n",
    "    results2[\n",
    "#         :\n",
    "#         results2.name.isin([\"IntHamt32Java\", \"RadixTreeRedux\", \"ScalaV2IntMap\"])\n",
    "        results2.name.isin([\"ScalaV2RrbMap\", \"PaguroRrbMap\", \"PaguroVectorMap\", \"ClojureVectorMap\"])\n",
    "#         results2.name.isin([\"ScalaRrbMap\", \"ScalaV2RrbMap\"])\n",
    "#         results2.name.isin([\"PaguroVectorMap\", \"PaguroRrbMap\"])\n",
    "#         results2.name.isin([\"PaguroVectorMap\", \"ClojureVectorMap\"])\n",
    "#         results2.name.isin([\"RadixTree\", \"RadixTreeRedux\"])\n",
    "#         results2.name.str.contains(\"Scala\")\n",
    "#         results2.name.isin([\"ClojureTreeMap\", \"PaguroTreeMap\", \"ScalaV2TreeMap\"])\n",
    "        | results2.name.str.contains(\"cache\")\n",
    "    ]\n",
    "#     ,normalizeTo = \"PaguroRrbMap\"\n",
    "#     ,normalizeTo = \"ClojureVectorMap\"\n",
    "#     ,normalizeTo = \"RadixTreeRedux\"\n",
    "    ,normalizeTo = \"ScalaV2RrbMap\"\n",
    "#     ,normalizeTo = \"ClojureTreeMap\"\n",
    "#     ,filename = False\n",
    "#     ,logx = False\n",
    ")"
   ]
  },
  {
   "cell_type": "markdown",
   "metadata": {},
   "source": [
    "### The main routine for generating visualisations"
   ]
  },
  {
   "cell_type": "code",
   "execution_count": null,
   "metadata": {},
   "outputs": [],
   "source": [
    "for filename, normalizeTo, res in [\n",
    "    (\"memresults_own\", \"IntHamt32Java\", results2.name.isin([\n",
    "        'IntChamp32Kotlin','IntChamp32Java', 'IntHamt32Kotlin', 'IntHamt32Java',\n",
    "        'IntImplicitKeyHamtKotlin', 'RadixTree', 'RadixTreeRedux'\n",
    "    ])),\n",
    "    (\"memresults_generic\", \"ScalaHashMap\", results2.name.isin([\n",
    "        \"ClojureHashMap\", \"ClojureTreeMap\", \"ScalaHashMap\", \"ScalaV2TreeMap\",\n",
    "        \"ScalaV2HashMap\", \"PaguroHashMap\", \"PaguroTreeMap\"\n",
    "    ])),\n",
    "    (\"memresults_scala\", \"ScalaHashMap\", results2.name.str.contains(\"Scala\")),\n",
    "    (\"memresults_lib_vectors\", \"ScalaV2RrbMap\", results2.name.isin([\n",
    "        \"ScalaV2RrbMap\", \"PaguroRrbMap\", \"PaguroVectorMap\", \"ClojureVectorMap\"\n",
    "    ])),\n",
    "    (\"memresults_specialized\", \"RadixTreeRedux\", results2.name.isin([\n",
    "        \"ScalaV2RrbMap\", 'PaguroVectorMap', \"ScalaV2IntMap\", 'IntHamt32Java', 'RadixTreeRedux'\n",
    "    ])),\n",
    "    (\"memresults_best\", \"ScalaV2TreeMap\", results2.name.isin([\n",
    "        \"ScalaV2RrbMap\", 'PaguroVectorMap', \"ScalaV2TreeMap\", \"ScalaHashMap\"\n",
    "    ])),\n",
    "    (\"memresults_perspective\", \"ScalaV2RrbMap\", results2.name.isin([\n",
    "        \"ScalaV2RrbMap\", \"PaguroVectorMap\", \"ScalaHashMap\", \"ScalaV2HashMap\", \"ScalaV2TreeMap\",\n",
    "        \"ArrayMap\", \"SdkMap\"\n",
    "    ]))\n",
    "]:\n",
    "    visualise(\n",
    "        results2[res | results2.name.str.contains(\"cache\")],\n",
    "        normalizeTo = normalizeTo,\n",
    "        filename = filename,\n",
    "        render = False\n",
    "    )"
   ]
  },
  {
   "cell_type": "code",
   "execution_count": null,
   "metadata": {},
   "outputs": [],
   "source": []
  }
 ],
 "metadata": {
  "kernelspec": {
   "display_name": "Python 3",
   "language": "python",
   "name": "python3"
  },
  "language_info": {
   "codemirror_mode": {
    "name": "ipython",
    "version": 3
   },
   "file_extension": ".py",
   "mimetype": "text/x-python",
   "name": "python",
   "nbconvert_exporter": "python",
   "pygments_lexer": "ipython3",
   "version": "3.7.7"
  }
 },
 "nbformat": 4,
 "nbformat_minor": 4
}
